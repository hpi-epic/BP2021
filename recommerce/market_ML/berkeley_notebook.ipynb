{
  "cells": [
    {
      "cell_type": "markdown",
      "metadata": {
        "id": "ICB1B13z1qtx"
      },
      "source": [
        "<!--NAVIGATION-->\n",
        "< [16.3 Least Squares Regression Derivation (Multivariable Calculus)](chapter16.03-Least-Squares-Regression-Derivation-Multivariable-Calculus.ipynb)  | [Contents](Index.ipynb) | [16.5 Least Square Regression for Nonlinear Functions](chapter16.05-Least-Square-Regression-for-Nonlinear-Functions.ipynb)    >"
      ]
    },
    {
      "cell_type": "markdown",
      "metadata": {
        "id": "Vlc_GCJl1qty"
      },
      "source": [
        "# Least Squares Regression in Python"
      ]
    },
    {
      "cell_type": "markdown",
      "metadata": {
        "id": "yhhLvbNJ1qty"
      },
      "source": [
        "Recall that if we enumerate the estimation of the data at each data point, $x_i$, this gives us the following system of equations:\n",
        "\n",
        "\\begin{eqnarray*}\n",
        "&&\\hat{y}(x_1) = {\\alpha}_1 f_1(x_1) + {\\alpha}_2 f_2(x_1) + \\cdots + {\\alpha}_n f_n(x_1),\\\\\n",
        "&&\\hat{y}(x_2) = {\\alpha}_1 f_1(x_2) + {\\alpha}_2 f_2(x_2) + \\cdots + {\\alpha}_n f_n(x_2),\\\\\n",
        "&&\\qquad\\qquad\\qquad\\qquad\\qquad \\cdots\\\\\n",
        "&&\\hat{y}(x_m) = {\\alpha}_1 f_1(x_m) + {\\alpha}_2 f_2(x_m) + \\cdots + {\\alpha}_n f_n(x_m).\n",
        "\\end{eqnarray*}\n",
        "\n",
        "If the data was absolutely perfect (i.e., no noise), then the estimation function would go through all the data points, resulting in the following system of equations:\n",
        "\n",
        "\\begin{eqnarray*}\n",
        "&&y_1 = {\\alpha}_1 f_1(x_1) + {\\alpha}_2 f_2(x_1) + \\cdots + {\\alpha}_n\n",
        "f_n(x_1),\\\\\n",
        "&&y_2 = {\\alpha}_1 f_1(x_2) + {\\alpha}_2 f_2(x_2) + \\cdots + {\\alpha}_n\n",
        "f_n(x_2),\\\\\n",
        "&&\\qquad\\qquad\\qquad\\qquad\\cdots\\\\\n",
        "&&y_m = {\\alpha}_1 f_1(x_m) + {\\alpha}_2 f_2(x_m) + \\cdots + {\\alpha}_n f_n(x_m).\n",
        "\\end{eqnarray*}\n",
        "\n",
        "If we take $A$ to be as defined previously, this would result in the matrix equation\n",
        "$$\n",
        "Y = A{\\beta}.\n",
        "$$\n",
        "\n",
        "However, since the data is not perfect, there will not be an estimation function that can go through all the data points, and this system will have $\\textit{no solution}$. Therefore, we need to use the least square regression that we derived in the previous two sections to get a solution. \n",
        "\n",
        "$${\\beta} = (A^T A)^{-1} A^T Y$$\n",
        "\n",
        "**TRY IT!** Consider the artificial data created by $\\textit{x = np.linspace(0, 1, 101)}$ and $\\textit{y = 1 + x + x * np.random.random(len(x))}$. Do a least squares regression with an estimation function defined by $\\hat{y}=\\alpha_1x+\\alpha_2$. Plot the data points along with the least squares regression. Note that we expect $\\alpha_1=1.5$ and $\\alpha_2=1.0$ based on this data. Due to the random noise we added into the data, your results maybe slightly different.   \n",
        "\n",
        "### Use direct inverse method"
      ]
    },
    {
      "cell_type": "code",
      "execution_count": 13,
      "metadata": {
        "id": "Lz00T3Ts1qtz"
      },
      "outputs": [],
      "source": [
        "import numpy as np\n",
        "from scipy import optimize\n",
        "import matplotlib.pyplot as plt\n",
        "\n",
        "plt.style.use('seaborn-poster')"
      ]
    },
    {
      "cell_type": "code",
      "execution_count": 14,
      "metadata": {
        "id": "47gjGYTQ1qt0"
      },
      "outputs": [],
      "source": [
        "# generate x and y\n",
        "x = np.linspace(0, 1, 101)\n",
        "y = 1 + x + x * np.random.random(len(x))"
      ]
    },
    {
      "cell_type": "code",
      "execution_count": 15,
      "metadata": {
        "id": "i9hVAbxF1qt0"
      },
      "outputs": [],
      "source": [
        "# assemble matrix A\n",
        "A = np.vstack([x, np.ones(len(x))]).T\n",
        "# print(A)\n",
        "# turn y into a column vector\n",
        "y = y[:, np.newaxis]\n"
      ]
    },
    {
      "cell_type": "code",
      "execution_count": 16,
      "metadata": {
        "colab": {
          "base_uri": "https://localhost:8080/"
        },
        "id": "xzQD23-w1qt0",
        "outputId": "4e951131-01e5-46f8-a86f-c78e1b35aaa2"
      },
      "outputs": [
        {
          "name": "stdout",
          "output_type": "stream",
          "text": [
            "[[1.46320034]\n",
            " [1.02216192]]\n"
          ]
        }
      ],
      "source": [
        "# Direct least square regression\n",
        "alpha = np.dot((np.dot(np.linalg.inv(np.dot(A.T,A)),A.T)),y)\n",
        "print(alpha)"
      ]
    },
    {
      "cell_type": "code",
      "execution_count": 17,
      "metadata": {
        "colab": {
          "base_uri": "https://localhost:8080/",
          "height": 517
        },
        "id": "Zqr8jGor1qt1",
        "outputId": "6518ebeb-76db-45a8-968b-4bc23467ae0f"
      },
      "outputs": [
        {
          "data": {
            "image/png": "[encoded data removed]",
            "text/plain": [
              "<Figure size 720x576 with 1 Axes>"
            ]
          },
          "metadata": {
            "needs_background": "light"
          },
          "output_type": "display_data"
        }
      ],
      "source": [
        "# plot the results\n",
        "plt.figure(figsize = (10,8))\n",
        "plt.plot(x, y, 'b.')\n",
        "plt.plot(x, alpha[0]*x + alpha[1], 'r')\n",
        "plt.xlabel('x')\n",
        "plt.ylabel('y')\n",
        "plt.show()"
      ]
    },
    {
      "cell_type": "markdown",
      "metadata": {
        "id": "loAsrgJz1qt2"
      },
      "source": [
        "In Python, there are many different ways to conduct the least square regression. For example, we can use packages as *numpy*, *scipy*, *statsmodels*, *sklearn* and so on to get a least square solution. Here we will use the above example and introduce you more ways to do it. Feel free to choose one you like. \n",
        "\n",
        "### Use the pseudoinverse\n",
        "\n",
        "We talked before that the $(A^T A)^{-1} A^T$ is called the pseudo-inverse, therefore, we could use the *pinv* function in *numpy* to directly calculate it. "
      ]
    },
    {
      "cell_type": "code",
      "execution_count": 18,
      "metadata": {
        "colab": {
          "base_uri": "https://localhost:8080/"
        },
        "id": "l0wmyuZQ1qt2",
        "outputId": "232ff033-4706-4499-a73b-a7754f880159"
      },
      "outputs": [
        {
          "name": "stdout",
          "output_type": "stream",
          "text": [
            "[[1.46320034]\n",
            " [1.02216192]]\n"
          ]
        }
      ],
      "source": [
        "pinv = np.linalg.pinv(A)\n",
        "alpha = pinv.dot(y)\n",
        "print(alpha)"
      ]
    },
    {
      "cell_type": "markdown",
      "metadata": {
        "id": "ZhkUxWOE1qt2"
      },
      "source": [
        "### Use numpy.linalg.lstsq\n",
        "\n",
        "Actually, *numpy* has already implemented the least square methods that we can just call the function to get a solution. The function will return more things than the solution itself, please check the documentation for details. "
      ]
    },
    {
      "cell_type": "code",
      "execution_count": 19,
      "metadata": {
        "colab": {
          "base_uri": "https://localhost:8080/"
        },
        "id": "BcBcIvzU1qt3",
        "outputId": "604d44fb-6684-4deb-ec9a-59a541e52f39"
      },
      "outputs": [
        {
          "name": "stdout",
          "output_type": "stream",
          "text": [
            "[[1.46320034]\n",
            " [1.02216192]]\n"
          ]
        }
      ],
      "source": [
        "alpha = np.linalg.lstsq(A, y, rcond=None)[0]\n",
        "print(alpha)"
      ]
    },
    {
      "cell_type": "markdown",
      "metadata": {
        "id": "ZNcGw3Hc1qt3"
      },
      "source": [
        "### Use optimize.curve_fit from scipy\n",
        "\n",
        "This scipy function is actually very powerful, that it can fit not only linear functions, but many different function forms, such as non-linear function. Here we will show the linear example from above. Note that, using this function, we don't need to turn y into a column vector. "
      ]
    },
    {
      "cell_type": "code",
      "execution_count": 20,
      "metadata": {
        "id": "Oa8RhD3i1qt3"
      },
      "outputs": [],
      "source": [
        "# generate x and y\n",
        "x = np.linspace(0, 1, 101)\n",
        "y = 1 + x + x * np.random.random(len(x))"
      ]
    },
    {
      "cell_type": "code",
      "execution_count": 21,
      "metadata": {
        "colab": {
          "base_uri": "https://localhost:8080/"
        },
        "id": "BWMtCLW61qt4",
        "outputId": "7c721c3c-b9a5-4879-b135-765ca2efce1b"
      },
      "outputs": [
        {
          "name": "stdout",
          "output_type": "stream",
          "text": [
            "[1.4351161  1.03732604]\n"
          ]
        }
      ],
      "source": [
        "def func(x, a, b):\n",
        "    y = a*x + b\n",
        "    return y\n",
        "\n",
        "alpha = optimize.curve_fit(func, xdata = x, ydata = y)[0]\n",
        "print(alpha)"
      ]
    },
    {
      "cell_type": "code",
      "execution_count": 11,
      "metadata": {
        "colab": {
          "base_uri": "https://localhost:8080/"
        },
        "id": "f3b-ampjLEPr",
        "outputId": "ecd062cd-e2d0-4e2c-cddb-e7dc500e1bd1"
      },
      "outputs": [
        {
          "name": "stdout",
          "output_type": "stream",
          "text": [
            "x: [[  1.  19.   9. ...   7.  10.   7.]\n",
            " [  1.   1.   2. ... 204. 202. 204.]\n",
            " [  1.  20.   9. ...  16.  16.  16.]\n",
            " ...\n",
            " [  1.   9.   9. ...  16.  16.  16.]\n",
            " [  1.  15.  14. ...   6.   6.   6.]\n",
            " [  1.   5.   5. ...   2.   5.   2.]]\n",
            "x.size 5000\n"
          ]
        }
      ],
      "source": [
        "import numpy as np\n",
        "import statsmodels.api as sm\n",
        "import torch\n",
        "import pandas as pd\n",
        "\n",
        "N = 200 # Trainingszeilen (historical data)\n",
        "c_new = 4\n",
        "\n",
        "# x{k in 0..24, i in 0..N} default if k=0 then 1 else round(np.random.uniform(0, 20)) # historical/training data\n",
        "x = np.array([[ (1 if k == 0 else np.round(np.random.uniform(0, 20))) for k in range(N)] for _ in range(25)]) # historical/training data\n",
        "\n",
        "\n",
        "# own period: 1st half: own x[7, i]vs x[2, i]| 2nd half: own x[7, i] vs x[2, i+1] \n",
        "# comp period: 1st half: com x[2, i-1] vs x[7, i-1] | 2nd half: com x[2, i-1] vs x[7, i] \n",
        "\n",
        "for i in range(1, N):\n",
        "\tx[1, i] = x[1, i-1]-x[12, i-1]+x[13, i-1]  # inventory own\n",
        "\n",
        "\tx[2, i] = x[7, i-1]-1 + np.round_(x[5, i-1]/200) if 9 < x[7, i-1] <= 20 else 20  # comp price new\n",
        "\tx[3, i] = x[8, i-1]-1 + np.round_(x[5, i-1]/200) if 5 < x[8, i-1] <= 15 else 15  # comp price used\n",
        "\tx[4, i] = x[9, i-1]-0.5-np.round_(x[5, i-1]/200)if 1 < x[9, i-1] <= 5 else 5  # comp price rebuy\n",
        "\tx[5, i] = x[5, i-1]-x[16, i-1] + x[17, i - 1]  # comp inventory\n",
        "\tx[6, i] = max(0, np.round_(0.8*x[6, i-1])+x[11, i-1]+x[12, i-1]-x[13, i-1] + x[15, i-1] + x[16, i-1]-x[17, i-1])  # resource in use\n",
        "\n",
        "\tx[7, i] = np.round_(np.random.uniform(5, 20)) if i < 20 else x[2, i] - 1 + np.round_(x[1, i]/200)if 9 < x[2, i] <= 18 else 18  # own price new\n",
        "\tx[8, i] = np.round_(np.random.uniform(0, 20)) if i < 20 else x[3, i] - 1 + np.round_(x[1, i]/200)if 5 < x[3, i] <= 12 else 12  # own price used\n",
        "\tx[9, i] = np.round_(np.random.uniform(0, 10)) if i < 20 else x[4, i]-0.5-np.round_(x[1, i]/200)if 1 < x[4, i] <= 5 else 5  # own price rebuy\n",
        "\tx[10, i] = x[1, i]*0.05  # own holding cost\n",
        "\tx[22, i] = x[7, i]-1+np.round_(x[5, i]/200) if 9 < x[7, i] <= 20 else 20  # comp new reaction\n",
        "\tx[23, i] = x[8, i]-1+np.round_(x[5, i]/200) if 5 < x[8, i] <= 15 else 15  # comp used reaction\n",
        "\tx[24, i] = x[9, i]-0.5 - np.round_(x[5, i]/200) if 1 < x[9, i] <= 5 else 5  # comp rebuy reaction\n",
        "\tx[11, i] = np.round_(max(0, np.random.uniform(5, 15)-x[7, i] + x[2, i]/4 + x[22, i]/4))  # own sales new\n",
        "\tx[12, i] = np.round_(min(x[1, i],  max(0, np.random.uniform(5, 15)-x[8, i] + x[3, i]/4 + x[23, i]/4)))  # own sales used\n",
        "\tx[13, i] = np.round_(min(x[6, i]/2, max(0, np.random.uniform(5, 15)+x[9, i] - x[4, i]/4 - x[24, i]/4)))  # own repurchases\n",
        "\tx[14, i] = x[5, i]*0.05  # comp holding cost\n",
        "\tx[15, i] = np.round_(max(0, np.random.uniform(5, 15)-x[2, i] + x[7, i]/4 + x[7, i-1]/4))  # comp sales new\n",
        "\tx[16, i] = np.round_(min(x[5, i],  max(0, np.random.uniform(5, 15)-x[3, i] + x[8, i]/4 + x[8, i-1]/4)))  # comp sales used\n",
        "\tx[17, i] = np.round_(min(x[6, i]/2, max(0, np.random.uniform(5, 15)+x[4, i] - x[9, i]/4 - x[9, i-1]/4)))  # comp repurchases\n",
        "\n",
        "\tx[18, i] = -x[10, i] + x[11, i]*(x[7, i]-c_new) + x[12, i]*x[8, i] - x[13, i]*x[9, i]  # own total rewards\n",
        "\tx[19, i] = -x[14, i] + x[15, i]*(x[2, i]-c_new) + x[16, i]*x[3, i] - x[17, i]*x[4, i]  # comp total rewards\n",
        "\tx[20, i] = x[18, i] + x[20, i-1] if i > 0 else 0  # own total accumulated rewards\n",
        "\tx[21, i] = x[19, i] + x[21, i-1] if i > 0 else 0  # comp total accumulated rewards\n",
        "\n",
        "print(\"x:\", x)\n",
        "print(\"x.size\", x.size)\n",
        "\n",
        "x_df = pd.DataFrame(x)\n",
        "x_df.to_csv(\"x_first_prototype.csv\")\n",
        "# for {i in range(1, n):\n",
        "# x[1, i] = x[1, i-1]-x[12, i-1]+x[13, i-1] # inventory own\n",
        "\n",
        "# x[2, i] = if 9<x[7, i-1]<=20 then x[7, i-1]-1 +round(x[5, i-1]/200) else 20 # comp price new\n",
        "# x[3, i] = if 5<x[8, i-1]<=15 then x[8, i-1]-1 +round(x[5, i-1]/200) else 15 # comp price used\n",
        "# x[4, i] = if 1<x[9, i-1]<= 5 then x[9, i-1]-0.5-round(x[5, i-1]/200) else 5 # comp price rebuy\n",
        "# x[5, i] = x[5, i-1]-x[16, i-1]+x[17, i-1]# comp inventory\n",
        "# x[6, i] = max(0, round(0.8*x[6, i-1])+x[11, i-1]+x[12, i-1]-x[13, i-1]+x[15, i-1]+x[16, i-1]-x[17, i-1]) # resource in use\n",
        "# x[7, i] = if i<20 then round(np.random.uniform(5, 20)) else if 9<x[2, i]<=18 then x[2, i]-1 +round(x[1, i]/200) else 18 # own price new\n",
        "# x[8, i] = if i<20 then round(np.random.uniform(0, 20)) else if 5<x[3, i]<=12 then x[3, i]-1 +round(x[1, i]/200) else 12 # own price used\n",
        "# x[9, i] = if i<20 then round(np.random.uniform(0, 10)) else if 1<x[4, i]<= 5 then x[4, i]-0.5-round(x[1, i]/200) else 5 # own price rebuy\n",
        "# x[10, i]= x[1, i]*0.05# own holding cost\n",
        "# x[22, i]= if 9<x[7, i]<=20 then x[7, i]-1+round(x[5, i]/200) else 20 # comp new reaction\n",
        "# x[23, i]= if 5<x[8, i]<=15 then x[8, i]-1+round(x[5, i]/200) else 15 # comp used reaction\n",
        "# x[24, i]= if 1<x[9, i]<= 5 then x[9, i]-0.5 -round(x[5, i]/200) else 5 # comp rebuy reaction\n",
        "# x[11, i]= round(max(0, np.random.uniform(5, 15)-x[7, i] +x[2, i]/4 +x[22, i]/4 )) # own sales new\n",
        "# x[12, i]= round(min(x[1, i],  max(0, np.random.uniform(5, 15)-x[8, i] +x[3, i]/4 +x[23, i]/4))) # own sales used\n",
        "# x[13, i]= round(min(x[6, i]/2, max(0, np.random.uniform(5, 15)+x[9, i] -x[4, i]/4 -x[24, i]/4))) # own repurchases\n",
        "# x[14, i]= x[5, i]*0.05# comp holding cost\n",
        "# x[15, i]= round(max(0, np.random.uniform(5, 15)-x[2, i] +x[7, i]/4 +x[7, i-1]/4 )) # comp sales new\n",
        "# x[16, i]= round(min(x[5, i],  max(0, np.random.uniform(5, 15)-x[3, i] +x[8, i]/4 +x[8, i-1]/4 ))) # comp sales used\n",
        "# x[17, i]= round(min(x[6, i]/2, max(0, np.random.uniform(5, 15)+x[4, i] -x[9, i]/4 -x[9, i-1]/4 ))) # comp repurchases\n",
        "\n",
        "# x[18, i]= -x[10, i] +x[11, i]*(x[7, i]-c_new) +x[12, i]*x[8, i] -x[13, i]*x[9, i] # own total rewards\n",
        "# x[19, i]= -x[14, i] +x[15, i]*(x[2, i]-c_new) +x[16, i]*x[3, i] -x[17, i]*x[4, i] # comp total rewards\n",
        "# x[20, i]= x[18, i]+ if i>0 then x[20, i-1] # own total accumulated rewards\n",
        "# x[21, i]= x[19, i]+ if i>0 then x[21, i-1] # comp total accumulated rewards\n",
        "\n",
        "\n"
      ]
    },
    {
      "cell_type": "code",
      "execution_count": 18,
      "metadata": {
        "colab": {
          "base_uri": "https://localhost:8080/"
        },
        "id": "BapO-MzhLLnO",
        "outputId": "7d1eacf7-7b7e-4f6e-9f04-47ab378b9a0f"
      },
      "outputs": [
        {
          "name": "stdout",
          "output_type": "stream",
          "text": [
            "result: torch.return_types.linalg_lstsq(\n",
            "solution=tensor([ 0.0099, -0.0075,  0.4393, -0.0702,  0.2657, -0.8721,  0.2016, -0.0714,\n",
            "         0.4435,  0.2130,  0.2051], dtype=torch.float64),\n",
            "residuals=tensor([1124.7614], dtype=torch.float64),\n",
            "rank=tensor([], dtype=torch.int64),\n",
            "singular_values=tensor([], dtype=torch.float64))\n",
            "tensor(0.2615, dtype=torch.float64)\n"
          ]
        }
      ],
      "source": [
        "########  OLS y1 (own sales new)\n",
        "\n",
        "y1 = [x[11,i] for i in range(N)]\n",
        "# print(\"y1:\", y1)\n",
        "y1_df = pd.DataFrame(y1)\n",
        "y1_df.to_csv(\"y1_first_prototype.csv\")\n",
        "M1 = (0,1,2,3,4,7,8,9,22,23,24)\n",
        "# param b1 {k in M1} default 0\n",
        "b1 = np.zeros(len(M1))\n",
        "# var beta1 {k in M1}\n",
        "# beta1 = somehow do the beta error\n",
        "x_y1 = x[M1,:]\n",
        "\n",
        "# print(x_y1)\n",
        "# minimize OLSy1: sum{i in 1..N} ( sum{k in M1} beta1[k]*x[k,i] - y1[i] )^2\n",
        "# ols_y1 = np.sum((np.dot(b1[M1], x[M1,:]) - y1)**2) #########################################################################\n",
        "# y1_t = torch.tensor(y1)\n",
        "\n",
        "# y_y1_t = torch.tensor(x_y1\n",
        "# print(y1_t.dim())\n",
        "# x_y1i = torch.transpose(y1_t, -1, 0)\n",
        "# y1_t1 = y1_t[:, np.newaxis]\n",
        "\n",
        "\n",
        "# print(\"y1_t:\", y1_t.size())\n",
        "# print(\"x_y1:\", x_y1)\n",
        "# print(\"alpha:\", alpha)\n",
        "transposed_tensor_x_y1 = torch.tensor(x_y1).transpose(0,1)\n",
        "tensor_y1 = torch.tensor(y1)\n",
        "result_tuple_y1 = torch.linalg.lstsq(transposed_tensor_x_y1, tensor_y1, driver='gels')\n",
        "print(\"result:\", result_tuple_y1)\n",
        "# objective OLSy1 solve for{k in M1}   b1[k] = beta1[k]\n",
        "\n",
        "tensor_b = result_tuple_y1[0]\n",
        "print(torch.dist(torch.dot(tensor_b, transposed_tensor_x_y1[0]), tensor_y1)/len(tensor_y1))\n"
      ]
    },
    {
      "cell_type": "code",
      "execution_count": 10,
      "metadata": {
        "colab": {
          "base_uri": "https://localhost:8080/"
        },
        "id": "3zK2Z7ISq00s",
        "outputId": "1774f3db-d88e-46e2-cbfb-9816a0eaecf4"
      },
      "outputs": [
        {
          "name": "stdout",
          "output_type": "stream",
          "text": [
            "result: torch.return_types.linalg_lstsq(\n",
            "solution=tensor([ 1.3489e-01, -8.2808e-05,  2.5466e-01,  5.5608e-02,  2.1862e-01,\n",
            "         1.3064e-02, -4.8307e-01,  3.3273e-01,  2.6617e-01, -2.3580e-01,\n",
            "         1.3403e-01], dtype=torch.float64),\n",
            "residuals=tensor([], dtype=torch.float64),\n",
            "rank=tensor(11),\n",
            "singular_values=tensor([], dtype=torch.float64))\n"
          ]
        }
      ],
      "source": [
        "########  OLS y2 (own sales used)\n",
        "\n",
        "y2 = [x[12,i] for i in range(N)]\n",
        "M2 = (0,1,2,3,4,7,8,9,22,23,24)\n",
        "x_y2 = x[M2,:]\n",
        "\n",
        "# print(\"y2:\", y2)\n",
        "# y2_df = pd.DataFrame(y2)\n",
        "# y2_df.to_csv(\"y2_first_prototype.csv\")\n",
        "# param b1 {k in M1} default 0\n",
        "# b2 = np.zeros(len(M2))\n",
        "# var beta1 {k in M1}\n",
        "# beta1 = somehow do the beta error\n",
        "\n",
        "# print(\"x_y2:\", x_y2)\n",
        "\n",
        "\n",
        "# param y2 {i in 1..N} := x[12,i];\n",
        "# set M2 := {0,1,2,3,4,7,8,9,22,23,24};\n",
        "# param b2 {k in M2} default 0;\n",
        "# var beta2 {k in M2};\n",
        "\n",
        "transposed_tensor_x_y2 = torch.tensor(x_y2).transpose(0,1)\n",
        "tensor_y2 = torch.tensor(y2)\n",
        "result_tuple_y2 = torch.linalg.lstsq(transposed_tensor_x_y2, tensor_y2)\n",
        "print(\"result:\", result_tuple_y2)\n",
        "\n",
        "# minimize OLSy2: sum{i in 1..N} ( sum{k in M2} beta2[k]*x[k,i] - y2[i] )^2;\n",
        "# objective OLSy2; solve; for{k in M2} let b2[k]:=beta2[k];;"
      ]
    },
    {
      "cell_type": "code",
      "execution_count": 7,
      "metadata": {
        "colab": {
          "base_uri": "https://localhost:8080/"
        },
        "id": "fjXX_uWBuAyf",
        "outputId": "229c889f-affb-4d3a-919b-c721e399a22d"
      },
      "outputs": [
        {
          "name": "stdout",
          "output_type": "stream",
          "text": [
            "result: torch.return_types.linalg_lstsq(\n",
            "solution=tensor([ 9.7768e-02, -1.8974e-04, -1.5960e-02, -2.6504e-01,  4.0468e-01,\n",
            "         2.0996e-01,  1.1694e-01,  1.0918e-01,  1.4732e-01, -3.8088e-02,\n",
            "         3.4200e-01], dtype=torch.float64),\n",
            "residuals=tensor([], dtype=torch.float64),\n",
            "rank=tensor(11),\n",
            "singular_values=tensor([], dtype=torch.float64))\n"
          ]
        }
      ],
      "source": [
        "########  OLS y3 (own purchases rebuy)\n",
        "\n",
        "y3 = [x[13,i] for i in range(N)]\n",
        "M3 = (0,1,2,3,4,7,8,9,22,23,24)\n",
        "x_y3 = x[M3,:]\n",
        "\n",
        "# param y3 {i in 1..N} := x[13,i];\n",
        "# set M3 := {0,1,2,3,4,7,8,9,22,23,24};\n",
        "# param b3 {k in M3} default 0;\n",
        "# var beta3 {k in M3};\n",
        "\n",
        "transposed_tensor_x_y3 = torch.tensor(x_y3).transpose(0,1)\n",
        "tensor_y3 = torch.tensor(y3)\n",
        "result_tuple_y3 = torch.linalg.lstsq(transposed_tensor_x_y3, tensor_y3)\n",
        "print(\"result:\", result_tuple_y3)\n",
        "\n",
        "# minimize OLSy3: sum{i in 1..N} ( sum{k in M3} beta3[k]*x[k,i] - y3[i] )^2;\n",
        "# objective OLSy3; solve; for{k in M3} let b3[k]:=beta3[k];;"
      ]
    },
    {
      "cell_type": "code",
      "execution_count": null,
      "metadata": {},
      "outputs": [],
      "source": [
        "########  OLS y4 (price comp new)\n",
        "\n",
        "y4 = [x[2,i+1] for i in range(1, N-1)]\n",
        "M4 = (0,2,3,4,7,8,9)\n",
        "M4x = (0,1,2,3,4,5,6,7,8,9,10,11,12,13,14,15,16,17,18,19,20)\n",
        "\n",
        "x4 = [1 if x[7,i] < k else 0 for k in range(1, N-1)]\n",
        "\n",
        "\n",
        "# param y4 {i in 1..N-1} := x[2,i+1]; # x22\n",
        "# set M4 := {0,2,3,4,7,8,9};\n",
        "# set M4x:= 1..20;\n",
        "# param x4 {k in M4x,i in 1..N-1} := if x[7,i]<k then 1 else 0;\n",
        "# param b4 {k in M4} default 0;\n",
        "# param b4x{k in M4x} default 0;\n",
        "# var beta4 {k in M4};\n",
        "# var beta4x{k in M4x};\n",
        "\n",
        "# minimize OLSy4: sum{i in 1..N-1} ( sum{k in M4}  beta4[k] *x[k,i] \n",
        "#                                  + sum{k in M4x} beta4x[k]*x4[k,i] - y4[i] )^2;\n",
        "# objective OLSy4; solve; for{k in M4}  let b4[k]:=beta4[k];;\n",
        "#                         for{k in M4x} let b4x[k]:=beta4x[k];;"
      ]
    },
    {
      "cell_type": "code",
      "execution_count": null,
      "metadata": {},
      "outputs": [],
      "source": [
        "###########  Simulation in Modell B   ###############\n",
        "\n",
        "NB = N\n",
        "\n",
        "# param xb{k in 0..24,i in 0..NB} default if k=0 then 1 else if i=0 then 5 else -1; # simulated data\n",
        "\n",
        "xb = np.array([[ (1 if k == 0 else 5 if i == 0 else -1) for k in range(N)] for _ in range(25)])\n",
        "\n",
        "for {i in range(1,NB):\n",
        "     xb[1,i] := xb[1,i-1]-xb[12,i-1]+xb[13,i-1];\n",
        "   let xb[2,i] := sum{k in M4}  b4[k] *xb[k,i-1] \n",
        "                + sum{k in M4x} b4x[k]*(if xb[7,i-1]<k then 1 else 0);\n",
        "   let xb[3,i] := sum{k in M5}  b5[k] *xb[k,i-1] \n",
        "                + sum{k in M5x} b5x[k]*(if xb[8,i-1]<k then 1 else 0);\n",
        "   let xb[4,i] := sum{k in M6}  b6[k] *xb[k,i-1] \n",
        "                + sum{k in M6x} b6x[k]*(if xb[9,i-1]<k then 1 else 0);\n",
        "   let xb[5,i] := xb[5,i-1]-xb[16,i-1]+xb[17,i-1];;\n",
        "   let xb[6,i] := max(0,round(0.8*xb[6,i-1])+xb[11,i-1]+xb[12,i-1]-xb[13,i-1]+xb[15,i-1]+xb[16,i-1]-xb[17,i-1]);;   \n",
        "   let xb[7,i] := if 9<xb[2,i]<=18 then xb[2,i]-1  +round(x[1,i]/200) else 18;   \n",
        "   let xb[8,i] := if 5<xb[3,i]<=12 then xb[3,i]-1  +round(x[1,i]/200) else 12;   \n",
        "   let xb[9,i] := if 1<xb[4,i]<= 5 then xb[4,i]-0.5-round(x[1,i]/200) else  5;   \n",
        "   let xb[10,i]:= xb[1,i]*0.05;\n",
        "   let xb[22,i]:= sum{k in M4}  b4[k] *xb[k,i] \n",
        "                + sum{k in M4x} b4x[k]*(if xb[7,i]<k then 1 else 0);\n",
        "   let xb[23,i]:= sum{k in M5}  b5[k] *xb[k,i] \n",
        "                + sum{k in M5x} b5x[k]*(if xb[8,i]<k then 1 else 0);\n",
        "   let xb[24,i]:= sum{k in M6}  b6[k] *xb[k,i] \n",
        "                + sum{k in M6x} b6x[k]*(if xb[9,i]<k then 1 else 0);\n",
        "   let xb[11,i]:= round(max(0,             Uniform(-5,5) + sum{k in M1} b1[k]*xb[k,i]));\n",
        "   let xb[12,i]:= round(min(x[1,i],  max(0,Uniform(-5,5) + sum{k in M2} b2[k]*xb[k,i])));\n",
        "   let xb[13,i]:= round(min(x[6,i]/2,max(0,Uniform(-5,5) + sum{k in M3} b3[k]*xb[k,i])));\n",
        "   let xb[14,i]:= xb[5,i]*0.05; \n",
        "   let xb[15,i]:= round(max(0,             Uniform(-5,5) + b1[0]*xb[0,i] + b1[1]*xb[5,i] + b1[2]*xb[7,i-1] + b1[3]*xb[8,i-1] + b1[4]*xb[9,i-1]\n",
        "                                                                                         + b1[7]*xb[2,i]   + b1[8]*xb[3,i]   + b1[9]*xb[4,i]\n",
        "                                                                                         + b1[22]*xb[7,i]  + b1[23]*xb[8,i]  + b1[24]*xb[9,i]  )); # cf M1\n",
        "\t\t\t\t\t\t\t\t\t\t\t\t\t\t\t\t\t\t\t\t\t\t \n",
        "   let xb[16,i]:= round(min(x[5,i],  max(0,Uniform(-5,5) + b2[0]*xb[0,i] + b2[1]*xb[5,i] + b2[2]*xb[7,i-1] + b2[3]*xb[8,i-1] + b2[4]*xb[9,i-1]\n",
        "                                                                                         + b2[7]*xb[2,i]   + b2[8]*xb[3,i]   + b2[9]*xb[4,i]\n",
        "                                                                                         + b2[22]*xb[7,i]  + b2[23]*xb[8,i]  + b2[24]*xb[9,i] ))); # cf M2\n",
        "\t\t\t\t\t\t\t\t\t\t\t\t\t\t\t\t\t\t\t\t\t\t \n",
        "   let xb[17,i]:= round(min(x[6,i]/2,max(0,Uniform(-5,5) + b3[0]*xb[0,i] + b3[1]*xb[5,i] + b3[2]*xb[7,i-1] + b3[3]*xb[8,i-1] + b3[4]*xb[9,i-1]\n",
        "                                                                                         + b3[7]*xb[2,i]   + b3[8]*xb[3,i]   + b3[9]*xb[4,i]\n",
        "                                                                                         + b3[22]*xb[7,i]  + b3[23]*xb[8,i]  + b3[24]*xb[9,i] ))); # cf M3 \n",
        "   let xb[18,i]:= -xb[10,i]+xb[11,i]*(xb[7,i]-c_new)+xb[12,i]*xb[8,i]-xb[13,i]*xb[9,i]; # own total rewards\n",
        "   let xb[19,i]:= -xb[14,i]+xb[15,i]*(xb[2,i]-c_new)+xb[16,i]*xb[3,i]-xb[17,i]*xb[4,i]; # comp total rewards\n",
        "   let xb[20,i]:= xb[18,i]+ if i>0 then xb[20,i-1];                # own total accumulated rewards\n",
        "   let xb[21,i]:= xb[19,i]+ if i>0 then xb[21,i-1];                # comp total accumulated rewards   \n"
      ]
    },
    {
      "cell_type": "markdown",
      "metadata": {
        "id": "g6ub1U-21qt5"
      },
      "source": [
        "<!--NAVIGATION-->\n",
        "< [16.3 Least Squares Regression Derivation (Multivariable Calculus)](chapter16.03-Least-Squares-Regression-Derivation-Multivariable-Calculus.ipynb)  | [Contents](Index.ipynb) | [16.5 Least Square Regression for Nonlinear Functions](chapter16.05-Least-Square-Regression-for-Nonlinear-Functions.ipynb)    >"
      ]
    }
  ],
  "metadata": {
    "colab": {
      "name": "berkeley_notebook.ipynb",
      "provenance": []
    },
    "kernelspec": {
      "display_name": "Python 3",
      "language": "python",
      "name": "python3"
    },
    "language_info": {
      "codemirror_mode": {
        "name": "ipython",
        "version": 3
      },
      "file_extension": ".py",
      "mimetype": "text/x-python",
      "name": "python",
      "nbconvert_exporter": "python",
      "pygments_lexer": "ipython3",
      "version": "3.8.12"
    }
  },
  "nbformat": 4,
  "nbformat_minor": 0
}
